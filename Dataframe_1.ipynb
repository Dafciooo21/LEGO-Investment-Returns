{
 "cells": [
  {
   "cell_type": "code",
   "execution_count": null,
   "metadata": {},
   "outputs": [],
   "source": [
    "import pandas as pd\n",
    "import matplotlib.pyplot as plt\n",
    "import numpy as np\n",
    "from scipy import stats\n",
    "import yfinance as yf\n",
    "from pandas_datareader import data as pdr"
   ]
  },
  {
   "cell_type": "code",
   "execution_count": null,
   "metadata": {},
   "outputs": [],
   "source": [
    "#read data\n",
    "sets = pd.read_csv('sets.csv', sep=\";\")\n",
    "themes = pd.read_csv('themes.csv')"
   ]
  },
  {
   "cell_type": "code",
   "execution_count": null,
   "metadata": {},
   "outputs": [],
   "source": [
    "#merge data into one dataframe\n",
    "sets_themes = pd.merge(sets, themes, how='left', left_on='theme_id', right_on='id', suffixes=('_sets', '_themes'))\n",
    "sets_themes = sets_themes.drop(['id', 'parent_id'], axis='columns')"
   ]
  },
  {
   "cell_type": "code",
   "execution_count": null,
   "metadata": {},
   "outputs": [],
   "source": [
    "# Number of sets released per year\n",
    "sets_by_year = sets_themes.groupby(\"year\").size().reset_index(name=\"set_num\")\n",
    "\n",
    "# Plot actual data\n",
    "plt.plot(sets_by_year[\"year\"][:-1], sets_by_year[\"set_num\"][:-1], label=\"Actual\")\n",
    "\n",
    "# Add trend line\n",
    "trendline = np.polyfit(sets_by_year[\"year\"], sets_by_year[\"set_num\"], 2)\n",
    "p = np.poly1d(trendline)\n",
    "plt.plot(sets_by_year[\"year\"], p(sets_by_year[\"year\"]), \"r--\", label=\"Linia trendu\")\n",
    "\n",
    "# Configure plot\n",
    "plt.legend()\n",
    "plt.title('Liczba wydawanych zestawów LEGO rok do roku')\n",
    "plt.xlabel(\"Rok\")\n",
    "plt.ylabel(\"Liczba zestawów LEGO\")\n",
    "plt.xticks(rotation=45)\n",
    "plt.grid(True)\n",
    "plt.tight_layout()\n",
    "plt.show()"
   ]
  },
  {
   "cell_type": "code",
   "execution_count": null,
   "metadata": {},
   "outputs": [],
   "source": [
    "#Sets released per year (table)\n",
    "sets_by_year_table = sets_themes.groupby(\"year\").count()\n",
    "sets_by_year_table[\"set_num\"][:-1]"
   ]
  },
  {
   "cell_type": "code",
   "execution_count": null,
   "metadata": {},
   "outputs": [],
   "source": [
    "# Number of themes by year\n",
    "themes_by_year = sets_themes.groupby(\"year\")[\"theme_id\"].nunique().reset_index(name=\"nr_themes\")\n",
    "\n",
    "# Calculate the trend line\n",
    "z = np.polyfit(themes_by_year[\"year\"].values[:-1], themes_by_year[\"nr_themes\"].values[:-1], 2)\n",
    "p = np.poly1d(z)\n",
    "\n",
    "# Plot the data points and the trend line\n",
    "plt.plot(themes_by_year[\"year\"].values[:-1], themes_by_year[\"nr_themes\"].values[:-1], label=\"Actual\")\n",
    "plt.plot(themes_by_year[\"year\"].values[:-1], p(themes_by_year[\"year\"].values[:-1]), \"r--\", label=\"Linia trendu\")\n",
    "\n",
    "# Configure the plot\n",
    "plt.title('Liczba wydawanych serii tematycznych LEGO rok do roku')\n",
    "plt.xlabel('Rok')\n",
    "plt.ylabel('Liczba serii tematycznych')\n",
    "plt.legend()\n",
    "plt.grid(True)\n",
    "plt.xticks(rotation=45)\n",
    "plt.tight_layout()\n",
    "plt.show()"
   ]
  },
  {
   "cell_type": "code",
   "execution_count": null,
   "metadata": {},
   "outputs": [],
   "source": [
    "# Complexity trend in LEGO sets per year\n",
    "# Group the data by year and calculate the average number of parts per set\n",
    "parts_per_set = sets.groupby('year')['num_parts'].mean()\n",
    "\n",
    "# Create a scatter plot of the data\n",
    "plt.scatter(parts_per_set.index[:-1], parts_per_set.values[:-1])\n",
    "\n",
    "# Calculate the slope and intercept of the best fit line\n",
    "slope, intercept, r_value, p_value, std_err = stats.linregress(parts_per_set.index[:-2], parts_per_set.values[:-2])\n",
    "\n",
    "# Calculate the x and y values for the best fit line\n",
    "x = np.array(parts_per_set.index[:-1])\n",
    "y = intercept + slope * x\n",
    "\n",
    "# Plot the best fit line\n",
    "plt.plot(x, y, 'r--', label='Linia trendu')\n",
    "\n",
    "# Add a legend to the plot\n",
    "plt.legend(loc='upper left')\n",
    "\n",
    "# Show the plot\n",
    "plt.title('Złozoność zestawów LEGO')\n",
    "plt.xlabel('Rok')\n",
    "plt.ylabel('Średnia liczba elementów w zestawie')\n",
    "plt.grid(True)\n",
    "plt.xticks(rotation=45)\n",
    "plt.tight_layout()\n",
    "plt.show()"
   ]
  },
  {
   "cell_type": "code",
   "execution_count": null,
   "metadata": {},
   "outputs": [],
   "source": [
    "#biggest sets ever per number of parts\n",
    "sets_themes.sort_values(\"num_parts\", ascending=False).head()"
   ]
  },
  {
   "cell_type": "code",
   "execution_count": null,
   "metadata": {},
   "outputs": [],
   "source": [
    "#filer database\n",
    "sets_themes = sets_themes.sort_values(by='year')\n",
    "sets_themes = sets_themes[(sets_themes['year'] >= 1990) & (sets_themes['year'] <= 2023)]\n",
    "sets_themes = sets_themes[(sets_themes['num_parts'] >= 25)]\n",
    "\n",
    "#22 most popular themes\n",
    "themes_to_keep = [252, 610, 52, 621, 22, 608, 579, 494, 246, 721, 603, 576, 577, 155, 693, 435, 601, 158, 684, 596, 690, 453]\n",
    "sets_themes = sets_themes[sets_themes['theme_id'].isin(themes_to_keep)]\n",
    "\n",
    "#reset index (number rows ascending)\n",
    "sets_themes = sets_themes.reset_index(drop=True)"
   ]
  },
  {
   "cell_type": "code",
   "execution_count": null,
   "metadata": {},
   "outputs": [],
   "source": [
    "#getting prices from Brickeconomy.com\n",
    "#save as csv\n",
    "sets_themes.to_csv('brickeconomy.csv', index=False)\n",
    "brickeconomy = pd.read_csv('brickeconomy.csv')\n",
    "\n",
    "#prepare csv for brickeconomy format\n",
    "brickeconomy = brickeconomy.drop(['name_sets','year','theme_id','num_parts','name_themes'], axis='columns')\n",
    "brickeconomy['quantity']=1\n",
    "brickeconomy.to_csv('brickeconomy.csv', index=False)\n",
    "\n",
    "#read downloaded csv with prices and merge with dataframe\n",
    "prices = pd.read_csv('prices.csv', sep=\";\")\n",
    "df = pd.merge(sets_themes, prices, how='left', left_on='set_num', right_on='Number')\n",
    "df = df.drop(['Number', 'Name'], axis='columns')"
   ]
  },
  {
   "cell_type": "code",
   "execution_count": null,
   "metadata": {},
   "outputs": [],
   "source": [
    "#filter out rows where any value is missing\n",
    "df = df.dropna()\n",
    "\n",
    "#change datatypes\n",
    "df = df.astype({'Retail': float, 'Value': float})\n",
    "\n",
    "#filter out rows where Retail is 0\n",
    "df = df[(df['Retail'] != 0)]\n",
    "\n",
    "#filter out sets not currently retired\n",
    "df['Retired'] = df['Retired_date'].str[6:].astype(int)\n",
    "df = df[(df['Retired'] <= 2023)]\n",
    "df = df.drop(['Retired'], axis=1)\n",
    "\n",
    "#reset index\n",
    "df = df.reset_index(drop=True)\n",
    "df"
   ]
  }
 ],
 "metadata": {
  "language_info": {
   "name": "python"
  }
 },
 "nbformat": 4,
 "nbformat_minor": 2
}
