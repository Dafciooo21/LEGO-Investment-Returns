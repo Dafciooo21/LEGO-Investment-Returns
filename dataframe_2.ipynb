{
 "cells": [
  {
   "cell_type": "code",
   "execution_count": null,
   "metadata": {},
   "outputs": [],
   "source": [
    "import pandas as pd\n",
    "import numpy as np\n",
    "import matplotlib.pyplot as plt\n",
    "import yfinance as yf\n",
    "from pandas_datareader import data as pdr"
   ]
  },
  {
   "cell_type": "code",
   "execution_count": null,
   "metadata": {},
   "outputs": [],
   "source": [
    "df_2 = pd.read_csv('szereg_czasowy.csv', sep=\";\")\n",
    "\n",
    "df_2 = df_2.dropna(subset=['retail_price'])\n",
    "df_2 = df_2.reset_index(drop=True)\n",
    "df_2 = df_2.sort_values(by='year')\n",
    "df_2 = df_2.replace(',', '.')\n",
    "\n",
    "df_2"
   ]
  },
  {
   "cell_type": "code",
   "execution_count": null,
   "metadata": {},
   "outputs": [],
   "source": [
    "average_values = df_2.iloc[:, 8:].apply(lambda x: x.mean(), axis=0)\n",
    "average_values_list = average_values.tolist()\n",
    "\n",
    "average_values_rounded = [round(x, 6) for x in average_values_list]\n",
    "\n",
    "average_values_rounded_series = pd.Series(average_values_rounded, name='average_values_rounded')\n",
    "average_values_rounded_series.name = 'average_values_rounded'\n",
    "df_2['average_values_rounded'] = average_values_rounded_series\n",
    "\n",
    "LEGO_basket = pd.DataFrame(average_values_rounded_series)"
   ]
  }
 ],
 "metadata": {
  "language_info": {
   "name": "python"
  }
 },
 "nbformat": 4,
 "nbformat_minor": 2
}
