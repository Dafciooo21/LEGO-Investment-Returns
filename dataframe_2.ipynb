{
 "cells": [
  {
   "cell_type": "code",
   "execution_count": null,
   "metadata": {},
   "outputs": [],
   "source": [
    "import pandas as pd\n",
    "import numpy as np\n",
    "import matplotlib.pyplot as plt\n",
    "import yfinance as yf\n",
    "from pandas_datareader import data as pdr"
   ]
  },
  {
   "cell_type": "code",
   "execution_count": null,
   "metadata": {},
   "outputs": [],
   "source": [
    "df_2 = pd.read_csv('szereg_czasowy.csv', sep=\";\")\n",
    "\n",
    "df_2 = df_2.dropna(subset=['retail_price'])\n",
    "df_2 = df_2.reset_index(drop=True)\n",
    "df_2 = df_2.sort_values(by='year')\n",
    "df_2 = df_2.replace(',', '.')\n",
    "\n",
    "df_2"
   ]
  }
 ],
 "metadata": {
  "language_info": {
   "name": "python"
  }
 },
 "nbformat": 4,
 "nbformat_minor": 2
}
