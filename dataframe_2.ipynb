{
 "cells": [
  {
   "cell_type": "code",
   "execution_count": null,
   "metadata": {},
   "outputs": [],
   "source": [
    "import pandas as pd\n",
    "import numpy as np\n",
    "import matplotlib.pyplot as plt\n",
    "import yfinance as yf\n",
    "from pandas_datareader import data as pdr"
   ]
  },
  {
   "cell_type": "code",
   "execution_count": null,
   "metadata": {},
   "outputs": [],
   "source": [
    "df_2 = pd.read_csv('szereg_czasowy.csv', sep=\";\")\n",
    "\n",
    "df_2 = df_2.dropna(subset=['retail_price'])\n",
    "df_2 = df_2.reset_index(drop=True)\n",
    "df_2 = df_2.sort_values(by='year')\n",
    "df_2 = df_2.replace(',', '.')\n",
    "\n",
    "df_2"
   ]
  },
  {
   "cell_type": "code",
   "execution_count": null,
   "metadata": {},
   "outputs": [],
   "source": [
    "average_values = df_2.iloc[:, 8:].apply(lambda x: x.mean(), axis=0)\n",
    "average_values_list = average_values.tolist()\n",
    "\n",
    "average_values_rounded = [round(x, 6) for x in average_values_list]\n",
    "\n",
    "average_values_rounded_series = pd.Series(average_values_rounded, name='average_values_rounded')\n",
    "average_values_rounded_series.name = 'average_values_rounded'\n",
    "df_2['average_values_rounded'] = average_values_rounded_series\n",
    "\n",
    "LEGO_basket = pd.DataFrame(average_values_rounded_series)"
   ]
  },
  {
   "cell_type": "code",
   "execution_count": null,
   "metadata": {},
   "outputs": [],
   "source": [
    "yf.pdr_override()\n",
    "other_instruments = pdr.get_data_yahoo([\"GC=F\", \"^GSPC\", \"^GDAXI\", \"BTC-USD\"], start=\"2021-01-01\", end=\"2023-12-31\")\n",
    "other_instruments = other_instruments.resample('M').last()\n",
    "other_instruments = other_instruments['Close']\n",
    "other_instruments = other_instruments.reset_index()\n",
    "\n",
    "#merge LEGO_basket and other_investments\n",
    "all_instruments = pd.concat([other_instruments, LEGO_basket], axis=1)\n",
    "all_instruments= all_instruments.rename(columns={'GC=F': 'Gold', '^GSPC': 'SP500', 'WIG20.WA': 'WIG20', '^GDAXI': 'DAX','average_values_rounded': 'LEGO'})\n",
    "\n",
    "#Set 'Date' as index\n",
    "all_instruments.set_index(\"Date\", inplace=True)\n",
    "all_instruments.plot(figsize=(5,8), subplots=True)\n",
    "\n",
    "# Set the minimum value on the y-axis to 0 for all subplots\n",
    "for ax in plt.gcf().get_axes():\n",
    "    ax.set_ylim(bottom=0)\n",
    "\n",
    "plt.show()"
   ]
  },
  {
   "cell_type": "code",
   "execution_count": null,
   "metadata": {},
   "outputs": [],
   "source": [
    "all_instruments.plot(figsize=(5,8), subplots=True)"
   ]
  },
  {
   "cell_type": "code",
   "execution_count": null,
   "metadata": {},
   "outputs": [],
   "source": [
    "all_instruments.tail()"
   ]
  },
  {
   "cell_type": "code",
   "execution_count": null,
   "metadata": {},
   "outputs": [],
   "source": []
  }
 ],
 "metadata": {
  "language_info": {
   "name": "python"
  }
 },
 "nbformat": 4,
 "nbformat_minor": 2
}
